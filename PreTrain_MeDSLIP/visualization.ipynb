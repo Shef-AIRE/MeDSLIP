{
 "cells": [
  {
   "cell_type": "code",
   "execution_count": 1,
   "metadata": {},
   "outputs": [
    {
     "name": "stderr",
     "output_type": "stream",
     "text": [
      "2024-02-20 15:21:27.524570: I tensorflow/core/util/port.cc:113] oneDNN custom operations are on. You may see slightly different numerical results due to floating-point round-off errors from different computation orders. To turn them off, set the environment variable `TF_ENABLE_ONEDNN_OPTS=0`.\n",
      "2024-02-20 15:21:27.548242: E external/local_xla/xla/stream_executor/cuda/cuda_dnn.cc:9261] Unable to register cuDNN factory: Attempting to register factory for plugin cuDNN when one has already been registered\n",
      "2024-02-20 15:21:27.548267: E external/local_xla/xla/stream_executor/cuda/cuda_fft.cc:607] Unable to register cuFFT factory: Attempting to register factory for plugin cuFFT when one has already been registered\n",
      "2024-02-20 15:21:27.549223: E external/local_xla/xla/stream_executor/cuda/cuda_blas.cc:1515] Unable to register cuBLAS factory: Attempting to register factory for plugin cuBLAS when one has already been registered\n",
      "2024-02-20 15:21:27.554053: I tensorflow/core/platform/cpu_feature_guard.cc:182] This TensorFlow binary is optimized to use available CPU instructions in performance-critical operations.\n",
      "To enable the following instructions: AVX2 AVX512F AVX512_VNNI AVX512_BF16 FMA, in other operations, rebuild TensorFlow with the appropriate compiler flags.\n",
      "2024-02-20 15:21:28.119363: W tensorflow/compiler/tf2tensorrt/utils/py_utils.cc:38] TF-TRT Warning: Could not find TensorRT\n"
     ]
    }
   ],
   "source": [
    "import argparse\n",
    "import os\n",
    "import ruamel_yaml as yaml\n",
    "import numpy as np\n",
    "import random\n",
    "import time\n",
    "import datetime\n",
    "import json\n",
    "from pathlib import Path\n",
    "import warnings\n",
    "warnings.filterwarnings(\"ignore\")\n",
    "\n",
    "\n",
    "import torch\n",
    "import torch.nn as nn\n",
    "from torch.utils.data import DataLoader\n",
    "import torch.backends.cudnn as cudnn\n",
    "\n",
    "from tensorboardX import SummaryWriter\n",
    "\n",
    "import utils\n",
    "from scheduler import create_scheduler\n",
    "from optim import create_optimizer\n",
    "from dataset.dataset import MedKLIP_Dataset\n",
    "from models.model_MedKLIP import MedKLIP\n",
    "from models.tokenization_bert import BertTokenizer"
   ]
  },
  {
   "cell_type": "code",
   "execution_count": 2,
   "metadata": {},
   "outputs": [],
   "source": [
    "def get_tokenizer(tokenizer, target_text):\n",
    "\n",
    "    target_tokenizer = tokenizer(\n",
    "        list(target_text),\n",
    "        padding=\"max_length\",\n",
    "        truncation=True,\n",
    "        max_length=128,\n",
    "        return_tensors=\"pt\",\n",
    "    )\n",
    "\n",
    "    return target_tokenizer"
   ]
  },
  {
   "cell_type": "code",
   "execution_count": 3,
   "metadata": {},
   "outputs": [],
   "source": [
    "config = yaml.load(open('configs/Pretrain_MedKLIP.yaml', \"r\"), Loader=yaml.Loader)"
   ]
  },
  {
   "cell_type": "code",
   "execution_count": 4,
   "metadata": {},
   "outputs": [
    {
     "name": "stdout",
     "output_type": "stream",
     "text": [
      "Total CUDA devices:  1\n",
      "Creating book\n",
      "Creating model\n"
     ]
    }
   ],
   "source": [
    "device = torch.device(\"cuda\" if torch.cuda.is_available() else \"cpu\")\n",
    "print(\"Total CUDA devices: \", torch.cuda.device_count())\n",
    "torch.set_default_tensor_type(\"torch.FloatTensor\")\n",
    "cudnn.benchmark = True\n",
    "\n",
    "start_epoch = 0\n",
    "max_epoch = config[\"schedular\"][\"epochs\"]\n",
    "warmup_steps = config[\"schedular\"][\"warmup_epochs\"]\n",
    "\n",
    "print(\"Creating book\")\n",
    "json_book = json.load(open('data_file/observation explanation.json', \"r\"))\n",
    "disease_book = [json_book[i] for i in json_book]\n",
    "ana_book = [\n",
    "    \"It is located at \" + i\n",
    "    for i in [\n",
    "        \"trachea\",\n",
    "        \"left_hilar\",\n",
    "        \"right_hilar\",\n",
    "        \"hilar_unspec\",\n",
    "        \"left_pleural\",\n",
    "        \"right_pleural\",\n",
    "        \"pleural_unspec\",\n",
    "        \"heart_size\",\n",
    "        \"heart_border\",\n",
    "        \"left_diaphragm\",\n",
    "        \"right_diaphragm\",\n",
    "        \"diaphragm_unspec\",\n",
    "        \"retrocardiac\",\n",
    "        \"lower_left_lobe\",\n",
    "        \"upper_left_lobe\",\n",
    "        \"lower_right_lobe\",\n",
    "        \"middle_right_lobe\",\n",
    "        \"upper_right_lobe\",\n",
    "        \"left_lower_lung\",\n",
    "        \"left_mid_lung\",\n",
    "        \"left_upper_lung\",\n",
    "        \"left_apical_lung\",\n",
    "        \"left_lung_unspec\",\n",
    "        \"right_lower_lung\",\n",
    "        \"right_mid_lung\",\n",
    "        \"right_upper_lung\",\n",
    "        \"right_apical_lung\",\n",
    "        \"right_lung_unspec\",\n",
    "        \"lung_apices\",\n",
    "        \"lung_bases\",\n",
    "        \"left_costophrenic\",\n",
    "        \"right_costophrenic\",\n",
    "        \"costophrenic_unspec\",\n",
    "        \"cardiophrenic_sulcus\",\n",
    "        \"mediastinal\",\n",
    "        \"spine\",\n",
    "        \"clavicle\",\n",
    "        \"rib\",\n",
    "        \"stomach\",\n",
    "        \"right_atrium\",\n",
    "        \"right_ventricle\",\n",
    "        \"aorta\",\n",
    "        \"svc\",\n",
    "        \"interstitium\",\n",
    "        \"parenchymal\",\n",
    "        \"cavoatrial_junction\",\n",
    "        \"cardiopulmonary\",\n",
    "        \"pulmonary\",\n",
    "        \"lung_volumes\",\n",
    "        \"unspecified\",\n",
    "        \"other\",\n",
    "    ]\n",
    "]\n",
    "tokenizer = BertTokenizer.from_pretrained(config[\"text_encoder\"])\n",
    "ana_book_tokenizer = get_tokenizer(tokenizer, ana_book).to(device)\n",
    "disease_book_tokenizer = get_tokenizer(tokenizer, disease_book).to(device)\n",
    "print(\"Creating model\")\n"
   ]
  },
  {
   "cell_type": "code",
   "execution_count": 5,
   "metadata": {},
   "outputs": [
    {
     "name": "stderr",
     "output_type": "stream",
     "text": [
      "Some weights of the model checkpoint at emilyalsentzer/Bio_ClinicalBERT were not used when initializing BertModel: ['cls.predictions.decoder.weight', 'cls.predictions.bias', 'cls.predictions.transform.dense.weight', 'cls.seq_relationship.weight', 'cls.predictions.transform.LayerNorm.weight', 'cls.predictions.transform.dense.bias', 'cls.seq_relationship.bias', 'cls.predictions.transform.LayerNorm.bias']\n",
      "- This IS expected if you are initializing BertModel from the checkpoint of a model trained on another task or with another architecture (e.g. initializing a BertForSequenceClassification model from a BertForPreTraining model).\n",
      "- This IS NOT expected if you are initializing BertModel from the checkpoint of a model that you expect to be exactly identical (initializing a BertForSequenceClassification model from a BertForSequenceClassification model).\n"
     ]
    },
    {
     "name": "stdout",
     "output_type": "stream",
     "text": [
      "text feature extractor: emilyalsentzer/Bio_ClinicalBERT\n",
      "Image feature extractor: resnet50\n"
     ]
    },
    {
     "name": "stderr",
     "output_type": "stream",
     "text": [
      "Some weights of the model checkpoint at emilyalsentzer/Bio_ClinicalBERT were not used when initializing BertModel: ['cls.predictions.decoder.weight', 'cls.predictions.bias', 'cls.predictions.transform.dense.weight', 'cls.seq_relationship.weight', 'cls.predictions.transform.LayerNorm.weight', 'cls.predictions.transform.dense.bias', 'cls.seq_relationship.bias', 'cls.predictions.transform.LayerNorm.bias']\n",
      "- This IS expected if you are initializing BertModel from the checkpoint of a model trained on another task or with another architecture (e.g. initializing a BertForSequenceClassification model from a BertForPreTraining model).\n",
      "- This IS NOT expected if you are initializing BertModel from the checkpoint of a model that you expect to be exactly identical (initializing a BertForSequenceClassification model from a BertForSequenceClassification model).\n"
     ]
    },
    {
     "name": "stdout",
     "output_type": "stream",
     "text": [
      "text feature extractor: emilyalsentzer/Bio_ClinicalBERT\n",
      "Image feature extractor: resnet50\n"
     ]
    }
   ],
   "source": [
    "model = MedKLIP(config, ana_book_tokenizer, disease_book_tokenizer, mode=\"train\").to('cuda:0')\n",
    "model_after = MedKLIP(config, ana_book_tokenizer, disease_book_tokenizer, mode=\"train\").to('cuda:0')\n",
    "model.load_state_dict(torch.load('/home/wenrui/Projects/MIMIC/MedKLIP/runs/baseline/checkpoint_state.pth')['model'], strict=False)\n",
    "model_after.load_state_dict(torch.load('/home/wenrui/Projects/MIMIC/MedKLIP/runs/resnet_pcl/2024-02-04_22-13-41/checkpoint_98.pth')['model'], strict=False)\n",
    "ana_book = model.ana_book\n",
    "disease_book = model.disease_book\n",
    "disease_embedding = model.disease_embedding_layer\n",
    "disease_embedding_after = model_after.disease_embedding_layer\n",
    "ana_book_before = disease_embedding(ana_book)\n",
    "disease_book_before = disease_embedding(disease_book)\n",
    "ana_book_after = disease_embedding_after(ana_book)\n",
    "disease_book_after = disease_embedding_after(disease_book)"
   ]
  },
  {
   "cell_type": "code",
   "execution_count": 6,
   "metadata": {},
   "outputs": [],
   "source": [
    "ana_name = [\n",
    "    \"trachea\",\n",
    "    \"left_hilar\",\n",
    "    \"right_hilar\",\n",
    "    \"hilar_unspec\",\n",
    "    \"left_pleural\",\n",
    "    \"right_pleural\",\n",
    "    \"pleural_unspec\",\n",
    "    \"heart_size\",\n",
    "    \"heart_border\",\n",
    "    \"left_diaphragm\",\n",
    "    \"right_diaphragm\",\n",
    "    \"diaphragm_unspec\",\n",
    "    \"retrocardiac\",\n",
    "    \"lower_left_lobe\",\n",
    "    \"upper_left_lobe\",\n",
    "    \"lower_right_lobe\",\n",
    "    \"middle_right_lobe\",\n",
    "    \"upper_right_lobe\",\n",
    "    \"left_lower_lung\",\n",
    "    \"left_mid_lung\",\n",
    "    \"left_upper_lung\",\n",
    "    \"left_apical_lung\",\n",
    "    \"left_lung_unspec\",\n",
    "    \"right_lower_lung\",\n",
    "    \"right_mid_lung\",\n",
    "    \"right_upper_lung\",\n",
    "    \"right_apical_lung\",\n",
    "    \"right_lung_unspec\",\n",
    "    \"lung_apices\",\n",
    "    \"lung_bases\",\n",
    "    \"left_costophrenic\",\n",
    "    \"right_costophrenic\",\n",
    "    \"costophrenic_unspec\",\n",
    "    \"cardiophrenic_sulcus\",\n",
    "    \"mediastinal\",\n",
    "    \"spine\",\n",
    "    \"clavicle\",\n",
    "    \"rib\",\n",
    "    \"stomach\",\n",
    "    \"right_atrium\",\n",
    "    \"right_ventricle\",\n",
    "    \"aorta\",\n",
    "    \"svc\",\n",
    "    \"interstitium\",\n",
    "    \"parenchymal\",\n",
    "    \"cavoatrial_junction\",\n",
    "    \"cardiopulmonary\",\n",
    "    \"pulmonary\",\n",
    "    \"lung_volumes\",\n",
    "    \"unspecified\",\n",
    "    \"other\",\n",
    "]\n",
    "disease_name = [\n",
    "    \"normal\",\n",
    "    \"clear\",\n",
    "    \"sharp\",\n",
    "    \"sharply\",\n",
    "    \"unremarkable\",\n",
    "    \"intact\",\n",
    "    \"stable\",\n",
    "    \"free\",\n",
    "    \"effusion\",\n",
    "    \"opacity\",\n",
    "    \"pneumothorax\",\n",
    "    \"edema\",\n",
    "    \"atelectasis\",\n",
    "    \"tube\",\n",
    "    \"consolidation\",\n",
    "    \"process\",\n",
    "    \"abnormality\",\n",
    "    \"enlarge\",\n",
    "    \"tip\",\n",
    "    \"low\",\n",
    "    \"pneumonia\",\n",
    "    \"line\",\n",
    "    \"congestion\",\n",
    "    \"catheter\",\n",
    "    \"cardiomegaly\",\n",
    "    \"fracture\",\n",
    "    \"air\",\n",
    "    \"tortuous\",\n",
    "    \"lead\",\n",
    "    \"disease\",\n",
    "    \"calcification\",\n",
    "    \"prominence\",\n",
    "    \"device\",\n",
    "    \"engorgement\",\n",
    "    \"picc\",\n",
    "    \"clip\",\n",
    "    \"elevation\",\n",
    "    \"expand\",\n",
    "    \"nodule\",\n",
    "    \"wire\",\n",
    "    \"fluid\",\n",
    "    \"degenerative\",\n",
    "    \"pacemaker\",\n",
    "    \"thicken\",\n",
    "    \"marking\",\n",
    "    \"scar\",\n",
    "    \"hyperinflate\",\n",
    "    \"blunt\",\n",
    "    \"loss\",\n",
    "    \"widen\",\n",
    "    \"coll_eapse\",\n",
    "    \"density\",\n",
    "    \"emphysema\",\n",
    "    \"aerate\",\n",
    "    \"mass\",\n",
    "    \"crowd\",\n",
    "    \"infiltrate\",\n",
    "    \"obscure\",\n",
    "    \"deformity\",\n",
    "    \"hernia\",\n",
    "    \"drainage\",\n",
    "    \"distention\",\n",
    "    \"shift\",\n",
    "    \"stent\",\n",
    "    \"pressure\",\n",
    "    \"lesion\",\n",
    "    \"finding\",\n",
    "    \"borderline\",\n",
    "    \"hardware\",\n",
    "    \"dilation\",\n",
    "    \"chf\",\n",
    "    \"redistribution\",\n",
    "    \"aspiration\",\n",
    "    \"tail_abnorm_obs\",\n",
    "    \"excluded_obs\",\n",
    "]"
   ]
  },
  {
   "cell_type": "code",
   "execution_count": 7,
   "metadata": {},
   "outputs": [],
   "source": [
    "ana_book_after = ana_book_after / ana_book_after.norm(dim=1, keepdim=True)\n",
    "disease_book_after = disease_book_after / disease_book_after.norm(dim=1, keepdim=True)\n",
    "ana_book_before = ana_book_before / ana_book_before.norm(dim=1, keepdim=True)\n",
    "disease_book_before = disease_book_before / disease_book_before.norm(dim=1, keepdim=True)\n",
    "logits_after = torch.mm(ana_book_after, disease_book_after.T).cpu().detach().numpy()\n",
    "logits_before = torch.mm(ana_book_before, disease_book_before.T).cpu().detach().numpy()"
   ]
  },
  {
   "cell_type": "code",
   "execution_count": 8,
   "metadata": {},
   "outputs": [],
   "source": [
    "# import seaborn as sns\n",
    "# import numpy as np\n",
    "# from sklearn.manifold import TSNE\n",
    "# import matplotlib.pyplot as plt\n",
    "\n",
    "# plt.figure(figsize=(150, 120))\n",
    "# plt.subplot(221)\n",
    "# ax = sns.heatmap(logits, linecolor=\"white\", linewidth=0.5, annot=True, fmt=\".2f\")\n",
    "# ax.set_xticklabels(disease_name, rotation=90)\n",
    "# ax.set_yticklabels(ana_name, rotation=0)\n",
    "# plt.subplot(222)\n",
    "# ax = sns.heatmap(logits_reshape, linecolor=\"white\", linewidth=0.5, annot=True, fmt=\".2f\")\n",
    "# ax.set_xticklabels(disease_name, rotation=90)\n",
    "# ax.set_yticklabels(ana_name, rotation=0)\n",
    "# plt.subplot(223)\n",
    "# ax = sns.heatmap(logits_reshape-logits, linecolor=\"white\", linewidth=0.5, annot=True, fmt=\".2f\")\n",
    "# ax.set_xticklabels(disease_name, rotation=90)\n",
    "# ax.set_yticklabels(ana_name, rotation=0)\n",
    "# plt.show()"
   ]
  },
  {
   "cell_type": "code",
   "execution_count": 9,
   "metadata": {},
   "outputs": [],
   "source": [
    "\n",
    "\n",
    "# disease_book_before = torch.concatenate([ana_book_before, disease_book_before], dim=0)\n",
    "\n",
    "# disease_book = torch.concatenate([ana_book, disease_book], dim=0)\n",
    "# labels = ana_name + disease_name\n",
    "# # data_np = disease_book.cpu().detach().numpy()\n",
    "# # data_np_reshape = disease_book_before.cpu().detach().numpy()\n",
    "# # tsne = TSNE(n_components=2, random_state=0)\n",
    "# # data_embedded = tsne.fit_transform(data_np)\n",
    "# # data_embedded_reshape = tsne.fit_transform(data_np_reshape)\n",
    "# # lists = disease_name + ana_name\n",
    "# # labels = [str(i) for i in range(len(lists))]\n",
    "\n",
    "\n",
    "# # plt.figure(figsize=(20, 10))\n",
    "# # plt.subplot(121)\n",
    "# # for i, (x, y) in enumerate(data_embedded):\n",
    "# #     plt.scatter(x, y)\n",
    "# #     plt.text(x, y, labels[i], fontsize=12)\n",
    "# # plt.subplot(122)\n",
    "# # for i, (x, y) in enumerate(data_embedded_reshape):\n",
    "# #     plt.scatter(x, y)\n",
    "# #     plt.text(x, y, labels[i], fontsize=12)\n",
    "# # plt.show()"
   ]
  },
  {
   "cell_type": "code",
   "execution_count": 10,
   "metadata": {},
   "outputs": [],
   "source": [
    "# disease_book = disease_book / disease_book.norm(dim=1, keepdim=True)\n",
    "# disease_book_before = disease_book_before / disease_book_before.norm(dim=1, keepdim=True)\n",
    "# disease_map = torch.mm(disease_book, disease_book.T)\n",
    "# disease_map = disease_map.cpu().detach().numpy()\n",
    "# disease_map_reshape = torch.mm(disease_book_before, disease_book_before.T)\n",
    "# disease_map_reshape = disease_map_reshape.cpu().detach().numpy()"
   ]
  },
  {
   "cell_type": "code",
   "execution_count": 11,
   "metadata": {},
   "outputs": [],
   "source": [
    "# import seaborn as sns\n",
    "\n",
    "\n",
    "# plt.figure(figsize=(150, 120))\n",
    "# plt.subplot(221)\n",
    "# ax = sns.heatmap(disease_map, linecolor=\"white\", linewidth=0.5, annot=True, fmt=\".2f\")\n",
    "# ax.set_xticklabels(labels, rotation=90)\n",
    "# ax.set_yticklabels(labels, rotation=0)\n",
    "# plt.subplot(222)\n",
    "# ax_reshape = sns.heatmap(disease_map_reshape, linecolor=\"white\", linewidth=0.5, annot=True, fmt=\".2f\")\n",
    "# ax_reshape.set_xticklabels(labels, rotation=90)\n",
    "# ax_reshape.set_yticklabels(labels, rotation=0)\n",
    "# plt.subplot(223)\n",
    "# ax = sns.heatmap(disease_map_reshape-disease_map, linecolor=\"white\", linewidth=0.5, annot=True, fmt=\".2f\")\n",
    "# ax.set_xticklabels(labels, rotation=90)\n",
    "# ax.set_yticklabels(labels, rotation=0)\n",
    "# plt.show()\n"
   ]
  },
  {
   "cell_type": "code",
   "execution_count": 12,
   "metadata": {},
   "outputs": [],
   "source": [
    "import numpy as np\n",
    "gts = np.load('/home/wenrui/Projects/MIMIC/MedKLIP/setting/landmark_observation_adj_mtx.npy')"
   ]
  },
  {
   "cell_type": "code",
   "execution_count": 13,
   "metadata": {},
   "outputs": [],
   "source": [
    "gts[gts<0] = 0\n"
   ]
  },
  {
   "cell_type": "code",
   "execution_count": 14,
   "metadata": {},
   "outputs": [],
   "source": [
    "gts = gts.sum(axis=0)"
   ]
  },
  {
   "cell_type": "code",
   "execution_count": 15,
   "metadata": {},
   "outputs": [],
   "source": [
    "gts = gts / gts.sum()"
   ]
  },
  {
   "cell_type": "code",
   "execution_count": 16,
   "metadata": {},
   "outputs": [],
   "source": [
    "# np.save('/mnt/a/MedKLIP/gts.npy', gts)"
   ]
  },
  {
   "cell_type": "code",
   "execution_count": 17,
   "metadata": {},
   "outputs": [
    {
     "data": {
      "text/plain": [
       "0.5216448513432825"
      ]
     },
     "execution_count": 17,
     "metadata": {},
     "output_type": "execute_result"
    }
   ],
   "source": [
    "((logits_after - gts) ** 2).mean()"
   ]
  },
  {
   "cell_type": "code",
   "execution_count": 18,
   "metadata": {},
   "outputs": [
    {
     "data": {
      "text/plain": [
       "0.5647437311018451"
      ]
     },
     "execution_count": 18,
     "metadata": {},
     "output_type": "execute_result"
    }
   ],
   "source": [
    "((logits_before - gts) ** 2).mean()"
   ]
  },
  {
   "cell_type": "code",
   "execution_count": 19,
   "metadata": {},
   "outputs": [
    {
     "data": {
      "text/plain": [
       "782.1597881518973"
      ]
     },
     "execution_count": 19,
     "metadata": {},
     "output_type": "execute_result"
    }
   ],
   "source": [
    "epsilon = 1e-8\n",
    "np.sum(logits_before * np.log(logits_before / (gts + epsilon) + epsilon), axis=1).mean()"
   ]
  },
  {
   "cell_type": "code",
   "execution_count": 20,
   "metadata": {},
   "outputs": [
    {
     "data": {
      "text/plain": [
       "749.032755664473"
      ]
     },
     "execution_count": 20,
     "metadata": {},
     "output_type": "execute_result"
    }
   ],
   "source": [
    "np.sum(logits_after * np.log(logits_after / (gts + epsilon) + epsilon), axis=1).mean()"
   ]
  }
 ],
 "metadata": {
  "kernelspec": {
   "display_name": "torch2",
   "language": "python",
   "name": "python3"
  },
  "language_info": {
   "codemirror_mode": {
    "name": "ipython",
    "version": 3
   },
   "file_extension": ".py",
   "mimetype": "text/x-python",
   "name": "python",
   "nbconvert_exporter": "python",
   "pygments_lexer": "ipython3",
   "version": "3.9.18"
  },
  "orig_nbformat": 4
 },
 "nbformat": 4,
 "nbformat_minor": 2
}
